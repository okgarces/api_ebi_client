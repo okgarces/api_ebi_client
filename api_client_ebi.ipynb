{
 "cells": [
  {
   "cell_type": "code",
   "execution_count": 50,
   "metadata": {},
   "outputs": [],
   "source": [
    "import urllib3\n",
    "import json\n",
    "import sys"
   ]
  },
  {
   "cell_type": "code",
   "execution_count": 51,
   "metadata": {},
   "outputs": [],
   "source": [
    "urllib3.disable_warnings()\n",
    "https = urllib3.PoolManager()\n",
    "main_url_ebi = 'https://www.ebi.ac.uk/biosamples/samples'"
   ]
  },
  {
   "cell_type": "code",
   "execution_count": 122,
   "metadata": {
    "scrolled": true
   },
   "outputs": [
    {
     "name": "stdout",
     "output_type": "stream",
     "text": [
      "Choose a menu\n",
      "1 Get total number of samples\n",
      "2 Get Name for an given Accession\n",
      "3 Get Filtered Accessions for an given Attribute and Value\n",
      "4 Examples of such queries and results\n",
      "5 Exit\n",
      "Option: 5\n"
     ]
    },
    {
     "ename": "SystemExit",
     "evalue": "",
     "output_type": "error",
     "traceback": [
      "An exception has occurred, use %tb to see the full traceback.\n",
      "\u001b[0;31mSystemExit\u001b[0m\n"
     ]
    },
    {
     "name": "stderr",
     "output_type": "stream",
     "text": [
      "/Users/okgarces/Documents/Alkanza/virtualenvs/alkanzaprojections/lib/python3.6/site-packages/IPython/core/interactiveshell.py:2971: UserWarning: To exit: use 'exit', 'quit', or Ctrl-D.\n",
      "  warn(\"To exit: use 'exit', 'quit', or Ctrl-D.\", stacklevel=1)\n"
     ]
    }
   ],
   "source": [
    "class Api_client:\n",
    "    \n",
    "    list_of_status = {\n",
    "            200: 'The response was ok.',\n",
    "            201: 'Resource was created',\n",
    "            400: 'The request was malformed. Change the request',\n",
    "            401: 'Unauthorized',\n",
    "            403: 'Forbidden for this request',\n",
    "            404: 'Resource not found',\n",
    "            405: 'Method not allowed'\n",
    "        }\n",
    "    \n",
    "    @classmethod\n",
    "    def control_errors_from_request(cls, status):\n",
    "        \"\"\"\n",
    "        Control de status errors requested made to EBI API \n",
    "        \"\"\"\n",
    "        to_continue, return_result = True, None\n",
    "        status = int(status)\n",
    "        if status != 200:\n",
    "            to_continue = False\n",
    "        return_result = cls.list_of_status.get(status, 'Wrong Status')\n",
    "        return to_continue, return_result\n",
    "    \n",
    "    \n",
    "    @classmethod\n",
    "    def get_method_client_method(cls, url_formed):\n",
    "        \"\"\"\n",
    "        Reusable method GET\n",
    "        :return tuple. if is ok the response. If the response is ok will return data as a Json\n",
    "        otherwise will return the message according to Status code. \n",
    "        \"\"\"\n",
    "        request_url = https.request('GET', url_formed)\n",
    "        response_is_ok, response = cls.control_errors_from_request(request_url.status)\n",
    "        if response_is_ok:\n",
    "            response = json.loads(request_url.data.decode('utf-8'))\n",
    "        return response_is_ok, response\n",
    "\n",
    "    \n",
    "    @classmethod\n",
    "    def get_accessions_by_filter(cls, attribute, value):\n",
    "        \"\"\"\n",
    "        : return the name of accession. \n",
    "        : IF does not exist print the list_of_status text\n",
    "        \"\"\"\n",
    "        # Transform the value and attribute.\n",
    "        # If the value is full of spaces do not include the value in the URL\n",
    "        attribute = attribute.replace(' ','+')\n",
    "        value = value.replace(' ', '+') if not value.isspace() else None\n",
    "        url_formed = main_url_ebi+'?filter=attr:{attribute}:{value}'.format(attribute=attribute, value=value ) if value else main_url_ebi+'?filter=attr:{attribute}'.format(attribute=attribute)\n",
    "        response_is_ok, data = cls.get_method_client_method(url_formed)\n",
    "        response = data\n",
    "        if response_is_ok:\n",
    "            _embedded = data.get('_embedded')\n",
    "            if (_embedded is not None):\n",
    "                samples = _embedded.get('samples')\n",
    "                if samples is not None:\n",
    "                    response = ''\n",
    "                    for sample in samples:\n",
    "                        response = response + sample.get('accession') + ', '\n",
    "            else:\n",
    "                response = ' No Samples found'\n",
    "                    \n",
    "        return response\n",
    "    \n",
    "    \n",
    "    @classmethod\n",
    "    def get_name_by_accession(cls, accession):\n",
    "        \"\"\"\n",
    "        : return the name of accession. \n",
    "        : IF does not exist print the list_of_status text\n",
    "        \"\"\"\n",
    "        url_formed = main_url_ebi+'/{accession}'.format(accession=accession)\n",
    "        response_is_ok, data = cls.get_method_client_method(url_formed)\n",
    "        response = data\n",
    "        if response_is_ok:\n",
    "            if (data.get('name') is not None):\n",
    "                response = data.get('name')\n",
    "        return response\n",
    "    \n",
    "    \n",
    "    @classmethod\n",
    "    def total_number_of_samples(cls):\n",
    "        \"\"\"\n",
    "        :return -1 if any error, other case it is ok\n",
    "        \"\"\"\n",
    "        url_formed = main_url_ebi\n",
    "        response = -1\n",
    "        response_is_ok, data = cls.get_method_client_method(url_formed)\n",
    "        if response_is_ok:\n",
    "            if (data.get('page') is not None) and (data.get('page').get('totalElements')):\n",
    "                response = data.get('page').get('totalElements')\n",
    "        return response\n",
    "    \n",
    "\n",
    "\n",
    "class Application:\n",
    "    \n",
    "    def __init__(self):\n",
    "        pass\n",
    "    \n",
    "    def close():\n",
    "        \"\"\"\n",
    "        Function to exit the Application.\n",
    "        \"\"\"\n",
    "        sys.exit()\n",
    "    \n",
    "    def get_name_by_accession():\n",
    "        accession = input(\"Accession: \")\n",
    "        return Api_client.get_name_by_accession(accession)\n",
    "    \n",
    "    def get_accessions_by_filter():\n",
    "        attribute = input(\"Attribute: \")\n",
    "        value = input(\"Value: \")\n",
    "        return Api_client.get_accessions_by_filter(attribute, value)\n",
    "        \n",
    "    \n",
    "    def get_examples_queries_results():\n",
    "        given_accession = \"\"\"\n",
    "        Accession    |  Name\n",
    "        SAMEA1507265 |  source GSM1000387 1\n",
    "        SAMD00000328 |  SAMD00000328\n",
    "        SAMEA1481290 |  source GSM898528 1\n",
    "        \"\"\"\n",
    "        \n",
    "        given_attribute_query = \"\"\"\n",
    "        Attribute    |  Value.        | Results\n",
    "        organism     |  homo sapiens  | SAMN08025863, SAMN08025864\n",
    "        organism     |  Homo Sapeins  | No samples found\n",
    "        description title |  BioSample1 | SAMN08025863\n",
    "        INSDC last update |           | SAMD00000001, SAMD00000006, SAMD00000007, SAMD00000008, SAMD00000009, SAMD00000010, SAMD00000011, SAMD00000012, SAMD00000014, SAMD00000021, SAMD00000325, SAMD00000326, SAMD00000327, SAMD00000328, SAMD00000330, SAMD00000331, SAMD00000332, SAMD00000333, SAMD00000334, SAMD00000341\n",
    "        \"\"\"\n",
    "        \n",
    "        print(given_accession, given_attribute_query)\n",
    "    \n",
    "    MENU_OPTIONS = {\n",
    "        1: { 'title': 'Get total number of samples', 'function': Api_client.total_number_of_samples, 'response': 'Total number of samples: ' },\n",
    "        2: { 'title': 'Get Name for an given Accession', 'function': get_name_by_accession, 'response': 'Name of the given accession: '},\n",
    "        3: { 'title': 'Get Filtered Accessions for an given Attribute and Value', 'function': get_accessions_by_filter, 'response': 'Accessions: '},\n",
    "        4: { 'title': 'Examples of such queries and results', 'function': get_examples_queries_results, 'response': ''},\n",
    "        5: {'title':'Exit', 'function': close}\n",
    "    }\n",
    "    \n",
    "    @classmethod\n",
    "    def print_menu_options(cls):\n",
    "        print('Choose a menu')\n",
    "        # Print menu options\n",
    "        for key, value in cls.MENU_OPTIONS.items():\n",
    "            print(key, value.get('title'))\n",
    "    \n",
    "    @classmethod\n",
    "    def get_selected_menu_item(cls):\n",
    "        \"\"\"\n",
    "        :return a tuple, function_to_call and the text for print the response\n",
    "        \"\"\"\n",
    "        # Read input from\n",
    "        try:\n",
    "            menu = int(input(\"Option: \"))\n",
    "            choosen_option = cls.MENU_OPTIONS.get(menu)\n",
    "            function_to_call = choosen_option.get('function')\n",
    "            response_text = choosen_option.get('response')\n",
    "            return function_to_call, response_text\n",
    "        except ValueError as e:\n",
    "            raise Exception('Invalid Option. ')\n",
    "    \n",
    "    @classmethod\n",
    "    def call_function_get_response(cls, function_to_call, response_text):\n",
    "        result = function_to_call()\n",
    "        print(response_text, result, '\\n')\n",
    "\"\"\"\n",
    "\n",
    "if __name__ == \"__main__\":\n",
    "    while(True):\n",
    "        try:\n",
    "            Application.print_menu_options()\n",
    "            function_to_call, response_text = Application.get_selected_menu_item()\n",
    "            Application.call_function_get_response(function_to_call, response_text)\n",
    "        except Exception as e:\n",
    "            print('Error in API Client EBI, {} \\n\\r'.format(e))\n",
    "\n",
    "\"\"\"\n",
    "if __name__ == \"__main__\":\n",
    "    Application.print_menu_options()\n",
    "    function_to_call, response_text = Application.get_selected_menu_item()\n",
    "    Application.call_function_get_response(function_to_call, response_text)"
   ]
  },
  {
   "cell_type": "code",
   "execution_count": null,
   "metadata": {},
   "outputs": [],
   "source": []
  },
  {
   "cell_type": "code",
   "execution_count": 115,
   "metadata": {},
   "outputs": [
    {
     "name": "stdout",
     "output_type": "stream",
     "text": [
      "False\n"
     ]
    }
   ],
   "source": [
    "a = \"  asd \"\n",
    "b = a.isspace()\n",
    "print(b)"
   ]
  },
  {
   "cell_type": "code",
   "execution_count": 123,
   "metadata": {},
   "outputs": [
    {
     "data": {
      "text/plain": [
       "5795298"
      ]
     },
     "execution_count": 123,
     "metadata": {},
     "output_type": "execute_result"
    }
   ],
   "source": [
    "Api_client.get()"
   ]
  },
  {
   "cell_type": "code",
   "execution_count": null,
   "metadata": {},
   "outputs": [],
   "source": []
  }
 ],
 "metadata": {
  "kernelspec": {
   "display_name": "Django Shell-Plus",
   "language": "python",
   "name": "django_extensions"
  },
  "language_info": {
   "codemirror_mode": {
    "name": "ipython",
    "version": 3
   },
   "file_extension": ".py",
   "mimetype": "text/x-python",
   "name": "python",
   "nbconvert_exporter": "python",
   "pygments_lexer": "ipython3",
   "version": "3.6.4"
  }
 },
 "nbformat": 4,
 "nbformat_minor": 2
}
